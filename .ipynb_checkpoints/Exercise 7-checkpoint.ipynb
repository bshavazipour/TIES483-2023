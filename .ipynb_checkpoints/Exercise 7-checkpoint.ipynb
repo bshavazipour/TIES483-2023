{
 "cells": [
  {
   "cell_type": "markdown",
   "metadata": {},
   "source": [
    "# Exercise 7\n",
    "* Due: 24.2. at 14:00\n",
    "* Max points: 8"
   ]
  },
  {
   "cell_type": "markdown",
   "metadata": {},
   "source": [
    "## General rules\n",
    "* **Submit your answers by using Moodle.** The link is <a href=\"https://moodle.jyu.fi/mod/assign/view.php?id=697446&forceview=1\">https://moodle.jyu.fi/mod/assign/view.php?id=697446&forceview=1</a>.\n",
    "* Name your file as *lastname_ex7.xxx*. If you have multiple files, use *lastname_ex7_1.xxx, lastname_ex7_2.xxx* etc.\n",
    "* **Remember to add comments to your answers and include also some testing parts!**"
   ]
  },
  {
   "cell_type": "markdown",
   "metadata": {},
   "source": [
    "## Exercises\n",
    "\n",
    "1. **2 points** Use the WWW-NIMBUS software at https://wwwnimbus.it.jyu.fi/cgi-bin/N4/login.py to find preferable solutions to the problem. Describe how you inputted your problem and what kind of preference information (i.e. classification of objectives) you used when computing improved solutions starting from the initial solution. Analyse the results (i.e., write what you think about the solutions found).\n",
    "4. **2 points** Try to generate a representative set of Pareto optimal solutions using the weighting method for the follwing bi-objective problem. Compare this set to the set of Pareto optimal solutions from task 1. What do you notice?\n",
    "$$\n",
    "\\begin{align}\n",
    "\\min & \\{\\|x-(1,0)\\|^2,\\|x-(0,1)\\|^2\\}\\\\\n",
    "\\text{s.t. }&x\\in \\mathbb R^2.\n",
    "\\end{align}\n",
    "$$\n"
   ]
  }
 ],
 "metadata": {
  "anaconda-cloud": {},
  "kernelspec": {
   "display_name": "Python 3",
   "language": "python",
   "name": "python3"
  },
  "language_info": {
   "codemirror_mode": {
    "name": "ipython",
    "version": 3
   },
   "file_extension": ".py",
   "mimetype": "text/x-python",
   "name": "python",
   "nbconvert_exporter": "python",
   "pygments_lexer": "ipython3",
   "version": "3.8.8"
  }
 },
 "nbformat": 4,
 "nbformat_minor": 1
}
