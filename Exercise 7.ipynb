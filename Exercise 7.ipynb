{
 "cells": [
  {
   "cell_type": "markdown",
   "metadata": {},
   "source": [
    "# Exercise 7\n",
    "* Due: 3.3. at 23:59\n",
    "* Max points: 12"
   ]
  },
  {
   "cell_type": "markdown",
   "metadata": {},
   "source": [
    "## General rules\n",
    "* **Submit your answers by using Moodle.** The link is <a href=\"https://moodle.jyu.fi/mod/assign/view.php?id=884575&forceview=1\">https://moodle.jyu.fi/mod/assign/view.php?id=884575&forceview=1</a>.\n",
    "* Name your file as *lastname_ex7.xxx*. If you have multiple files, use *lastname_ex7_1.xxx, lastname_ex7_2.xxx* etc.\n",
    "* **Remember to add comments to your answers and include also some testing parts!**"
   ]
  },
  {
   "cell_type": "markdown",
   "metadata": {},
   "source": [
    "## Exercises\n",
    "\n",
    "1. **2 points** Use the WWW-NIMBUS software at https://wwwnimbus.it.jyu.fi/cgi-bin/N4/login.py to find preferable solutions to the problem. Describe how you inputted your problem and what kind of preference information (i.e. classification of objectives) you used when computing improved solutions starting from the initial solution. Analyse the results (i.e., write what you think about the solutions found).\n",
    "\n",
    "2. **10 points** Use DESDEO framework to create a problem object for your problem. Then, find the ideal and nadir vectors by using available tools in DESDEO. Finally, import NIMBUS method and solve your problem and find preferable solutions (with at least three iterations). Describe how you inputted your problem and what kind of preference information (i.e., classification of objectives) you used when computing improved solutions starting from the initial solution. Analyse the results (i.e., write what you think about the solutions found). \n",
    "\n",
    "**Hint.** See examples in the DESDEO paper https://ieeexplore.ieee.org/stamp/stamp.jsp?tp=&arnumber=9591595"
   ]
  }
 ],
 "metadata": {
  "anaconda-cloud": {},
  "kernelspec": {
   "display_name": "Python 3",
   "language": "python",
   "name": "python3"
  },
  "language_info": {
   "codemirror_mode": {
    "name": "ipython",
    "version": 3
   },
   "file_extension": ".py",
   "mimetype": "text/x-python",
   "name": "python",
   "nbconvert_exporter": "python",
   "pygments_lexer": "ipython3",
   "version": "3.8.8"
  }
 },
 "nbformat": 4,
 "nbformat_minor": 1
}
